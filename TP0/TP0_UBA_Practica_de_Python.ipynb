{
  "cells": [
    {
      "cell_type": "markdown",
      "metadata": {
        "collapsed": true,
        "id": "Dh8MkXaG-c9Y",
        "jupyter": {
          "outputs_hidden": true
        }
      },
      "source": [
        "# Big Data y Machine Learning (UBA) - 2025\n",
        "\n",
        "## Trabajo Práctico 0 (Opcional) - Práctica de Programación en Python\n"
      ]
    },
    {
      "cell_type": "markdown",
      "metadata": {
        "id": "RhBlm6mZ-c9e"
      },
      "source": [
        "### Reglas de formato y presentación\n",
        "- El trabajo debe estar debidamente documentado comentado (utilizando #) para que tanto los docentes como sus compañeros puedan comprender el código fácilmente.\n",
        "\n",
        "- El mismo debe ser completado en este Jupyter Notebook y entregado como tal, es decir en un archivo .ipynb\n"
      ]
    },
    {
      "cell_type": "markdown",
      "metadata": {
        "id": "ZEjGaa4U-c9g"
      },
      "source": [
        "### Fecha de relización:\n",
        "Viernes 18 de Marzo a las 13:00 hs"
      ]
    },
    {
      "cell_type": "markdown",
      "metadata": {
        "id": "ZXbrPraa-c9i"
      },
      "source": [
        "#### Ejercicio 1\n",
        "Este ejercicio simplemente busca repasar lo que aprendimos sobre definición de variables. Definir dos variables con un nombre combinado (al menos dos palabras), una que se pueda crear y otra que tenga un nombre inaceptable (genera error). Explicar por qué ocurre el error."
      ]
    },
    {
      "cell_type": "markdown",
      "metadata": {
        "id": "MoQbCMWKJnhK"
      },
      "source": [
        "# Ejercicio 1\n",
        "Primero cabe aclarar, que para definir una función, debemos cumplir con ciertos requisitos, estas son algunas de las consideraciones a tener:\n",
        "###### 1)Es sensible al uso de mayúsculas/minúsculas (no son intercambiables).\n",
        "###### 2)Solo puede contener valores alfanúmericos o \"_\"\n",
        "###### 3)No puede comenzar con un caracter numérico\n",
        "###### 4) No usar palabras reservadas (ej. True o False)\n",
        "En este caso utilizaremos para demostrarlo el error 3\n"
      ]
    },
    {
      "cell_type": "code",
      "execution_count": 1,
      "metadata": {
        "id": "mb7PkXfN-c9j",
        "scrolled": true,
        "colab": {
          "base_uri": "https://localhost:8080/"
        },
        "outputId": "abd48e7c-8ce7-4082-baeb-65eb89a18a6d"
      },
      "outputs": [
        {
          "output_type": "stream",
          "name": "stdout",
          "text": [
            "2\n"
          ]
        }
      ],
      "source": [
        "# Caso A\n",
        "numero_de_alumnos = 2\n",
        "print(numero_de_alumnos)\n"
      ]
    },
    {
      "cell_type": "code",
      "execution_count": null,
      "metadata": {
        "id": "W4EbxA-pJnhM",
        "outputId": "dcea9d49-92e5-4b77-bda6-4197df2a7708"
      },
      "outputs": [
        {
          "ename": "SyntaxError",
          "evalue": "invalid decimal literal (3343220413.py, line 2)",
          "output_type": "error",
          "traceback": [
            "\u001b[1;36m  Cell \u001b[1;32mIn[60], line 2\u001b[1;36m\u001b[0m\n\u001b[1;33m    2playas = 50\u001b[0m\n\u001b[1;37m    ^\u001b[0m\n\u001b[1;31mSyntaxError\u001b[0m\u001b[1;31m:\u001b[0m invalid decimal literal\n"
          ]
        }
      ],
      "source": [
        "# caso B (ERROR 3)\n",
        "2playas = 50\n",
        "print(2playas)"
      ]
    },
    {
      "cell_type": "markdown",
      "metadata": {
        "id": "1TrkDR3CJnhM"
      },
      "source": [
        "### En este caso el error se debe a que no se puede comenzar defininiendo a la funcion con caracter numerico"
      ]
    },
    {
      "cell_type": "markdown",
      "metadata": {
        "id": "QpgpN8nGJnhM"
      },
      "source": [
        "#### Ejercicio 2\n",
        "Importar módulos. Usando el módulo math impriman la tangente de 1. ¿Cuál es el resultado?\n",
        "Hagan este cálculo de dos formas: primero importando el módulo math y usando la función correspondiente y luego solo importando la función específica que precisan para el cálculo."
      ]
    },
    {
      "cell_type": "code",
      "execution_count": null,
      "metadata": {
        "id": "1-LYwC1DJnhN",
        "outputId": "c24da0ae-3eb9-40ab-87cf-ec915249afe3"
      },
      "outputs": [
        {
          "name": "stdout",
          "output_type": "stream",
          "text": [
            "1.5574077246549023\n",
            "1.5574077246549023\n"
          ]
        }
      ],
      "source": [
        "# Caso a\n",
        "import math as mt\n",
        "print(mt.tan(1))\n",
        "# Caso B\n",
        "from math import tan\n",
        "print(tan(1))"
      ]
    },
    {
      "cell_type": "markdown",
      "metadata": {
        "id": "GlNh0fyv-c9l"
      },
      "source": [
        "#### Ejercicio 3\n",
        "Este ejercicio trata sobre lograr el intercambio de valores entre dos variables utilizando una variable temporal para hacerlo. Las variables temporales y la sustitución de valores termina siendo útil en algunos loops. Los pasos a seguir son: (a) definir variables A y B (cuyos valores buscaremos invertir); (b) definir una variable temporal que resguarde el valor de B; (c) sustitución (asignar B igual a A y también A igual al valor original de B); (d) imprimir valores para verificar."
      ]
    },
    {
      "cell_type": "code",
      "execution_count": null,
      "metadata": {
        "id": "uWalSYFC-c9m",
        "outputId": "a010d61a-05a1-4522-ab45-95e33d8fb2a3"
      },
      "outputs": [
        {
          "name": "stdout",
          "output_type": "stream",
          "text": [
            "valor de a es : 2\n",
            "valor de b es : 1\n"
          ]
        }
      ],
      "source": [
        "# a) Definir variables A y B,\n",
        "a = 1\n",
        "b = 2\n",
        "\n",
        "# b) Definir variable temporal \"tmp\" igual a B (la variable, no el valor)\n",
        "tmp = b\n",
        "\n",
        "\n",
        "# c) Ahora sustituir variables: variable B igual a variable A (la variable, no el\n",
        "# valor) y viceversa.\n",
        "\n",
        "b = a\n",
        "a = tmp\n",
        "\n",
        "# d) Verifiquemos resultados: imprimir variables A y B\n",
        "\n",
        "print(\"valor de a es :\", a)\n",
        "print(\"valor de b es :\", b)"
      ]
    },
    {
      "cell_type": "markdown",
      "metadata": {
        "id": "wXhAaRyN-c9p"
      },
      "source": [
        "#### Ejercicio 4\n",
        "En este ejercicio se busca poner en práctica el uso de range() en un for loop.\n",
        "\n",
        "Construir un for loop usando un range(). El range debe ser entre los valores que quieran (con una diferencia mínima de 15 entre start y stop), en incrementos de 3 unidades. Dentro del loop, implementar una sentencia condicional que imprima una leyenda indicando si el input es par o impar."
      ]
    },
    {
      "cell_type": "code",
      "execution_count": null,
      "metadata": {
        "id": "_oE5sG0c-c9q",
        "outputId": "975e27ca-cc37-40b8-8c19-504eae52b666"
      },
      "outputs": [
        {
          "name": "stdout",
          "output_type": "stream",
          "text": [
            "1 es un numero impar\n",
            "4 es un numero par\n",
            "7 es un numero impar\n",
            "10 es un numero par\n",
            "13 es un numero impar\n",
            "16 es un numero par\n",
            "19 es un numero impar\n",
            "22 es un numero par\n",
            "25 es un numero impar\n",
            "28 es un numero par\n"
          ]
        }
      ],
      "source": [
        "# Resolver acá\n",
        "start = 1\n",
        "stop = 30\n",
        "step = 3\n",
        "# loop con range\n",
        "for X in range(1,30,3):\n",
        "    if X % 2 == 0:\n",
        "        print(f\"{X} es un numero par\")\n",
        "    else:\n",
        "        print(f\"{X} es un numero impar\")\n"
      ]
    },
    {
      "cell_type": "markdown",
      "metadata": {
        "id": "h3g5bXUB-c9u"
      },
      "source": [
        "#### Ejercicio 5\n",
        "Para practicar el uso de condiciones lógicas y la definición de funciones, construir una función con una sentencia condicional que verifique si un año es bisiesto o no. Para que un año sea bisiesto debe cumplir una de dos condiciones:\n",
        "\n",
        "(a) que sea divisible por 400; o\n",
        "\n",
        "(b) que sea divisible por 4 y no sea divisible por 100\n",
        "\n",
        "Notar que son dos condiciones, donde la segunda condición tiene dos componentes. Prueben la función con 3 valores para verificar que funcione."
      ]
    },
    {
      "cell_type": "code",
      "execution_count": 2,
      "metadata": {
        "id": "7_MnILdz-c9v",
        "colab": {
          "base_uri": "https://localhost:8080/"
        },
        "outputId": "f24d6388-b30a-4514-f93b-7fc3a8a9d841"
      },
      "outputs": [
        {
          "output_type": "stream",
          "name": "stdout",
          "text": [
            "True\n",
            "False\n",
            "True\n",
            "False\n"
          ]
        }
      ],
      "source": [
        "# Resolver acá\n",
        "def es_bisiesto(año):\n",
        "    if (año % 400 == 0) or (año % 4 == 0 and año % 100 != 0):\n",
        "        return True\n",
        "    else:\n",
        "        return False\n",
        "# Prueba\n",
        "print(es_bisiesto(2056))  # Verdadero ya que es (divisible por 4 y no por 100)\n",
        "print(es_bisiesto(1975))  # Falso (no cumple requisito)\n",
        "print(es_bisiesto(2400))  # Verdadero ya que es (divisible por 400)\n",
        "print(es_bisiesto(2031))  # Falso (no cumple requesito)\n",
        "\n",
        "\n"
      ]
    },
    {
      "cell_type": "markdown",
      "metadata": {
        "collapsed": true,
        "id": "P3a7bJkd-c9w",
        "jupyter": {
          "outputs_hidden": true
        }
      },
      "source": [
        "#### Ejercicio 6\n",
        "Pongamos en práctica identificar el type() de cada variable. A continuación tenemos una lista con elementos de diferentes tipos. Construyan un for loop que itere sobre la lista e imprima un cartel indicando el tipo de dato u objeto que hay en cada caso."
      ]
    },
    {
      "cell_type": "code",
      "execution_count": null,
      "metadata": {
        "id": "jDf4d_Wr-c9w"
      },
      "outputs": [],
      "source": [
        "mi_lista = [10, 34.5, 99999, 'abc', [1,2,3], ('ARG', 1810), {'pob': 45}, True]"
      ]
    },
    {
      "cell_type": "markdown",
      "metadata": {
        "id": "KsIl1a5iJnhO"
      },
      "source": [
        "\n",
        "# Tipos de dato u objeto en python\n",
        "\n",
        "### 1. Tipos numéricos\n",
        "int→ Enteros (ej.10, -5, 999);\n",
        "float→3.14, `-0.-0.001);\n",
        "complex→ Nú2 + 3j).\n",
        "### 2. Tipos de texto\n",
        "str→'Hola', `\"\"Python\").\n",
        "### 3. Tipos de Secuencias (Colecciones Ordenadas)\n",
        "list→ Listas (e[1, 2, 3], `['['a', 'b', 'c']);\n",
        "tuple→ T(10, 20, 30));\n",
        "range→ Rango derange(5),0,1,2,3,4).\n",
        "### 4. Tipos de Colecciones No Ordenadas\n",
        "set→ C{1, 2, 3},\n",
        "frozenset→frozenset({4, 5, 6}))\n",
        "### 5. Tipos de Mapeo\n",
        "dict→ Dic{'nombre': 'Ana', 'edad': 25})\n",
        "### 6. Tipos booleanos\n",
        "bool→True, `FaFalse)\n",
        "### 7. Tipos Binarios (para manejar datos en bytes)\n",
        "bytes→ Segurob'Hola')\n",
        "bytearray→\n",
        "memoryview→ Vi\n",
        "### 8. Tipos especiales\n",
        "NoneType→ ReNone)\n",
        "### 9. Tipos de funciones y clases\n",
        "function→ Funciones\n",
        "module→\n",
        "class→\n",
        "### 10. Tipos de Manejo de Excepciones\n",
        "Exception→ValueError,TypeError, etc."
      ]
    },
    {
      "cell_type": "code",
      "execution_count": null,
      "metadata": {
        "id": "SAJgEiNEFQAS",
        "outputId": "35ca4f2a-a891-4ef5-949e-c082fcbf6cbb"
      },
      "outputs": [
        {
          "name": "stdout",
          "output_type": "stream",
          "text": [
            "El elemento \"10\" es de tipo <class 'int'>\n",
            "El elemento \"34.5\" es de tipo <class 'float'>\n",
            "El elemento \"99999\" es de tipo <class 'int'>\n",
            "El elemento \"abc\" es de tipo <class 'str'>\n",
            "El elemento \"[1, 2, 3]\" es de tipo <class 'list'>\n",
            "El elemento \"('ARG', 1810)\" es de tipo <class 'tuple'>\n",
            "El elemento \"{'pob': 45}\" es de tipo <class 'dict'>\n",
            "El elemento \"True\" es de tipo <class 'bool'>\n"
          ]
        }
      ],
      "source": [
        "# Resolver acá\n",
        "\n",
        "mi_lista = [10, 34.5, 99999, 'abc', [1,2,3], ('ARG', 1810), {'pob': 45}, True]\n",
        "\n",
        "for elemento in mi_lista:\n",
        "    print(f'El elemento \"{elemento}\" es de tipo {type(elemento)}')\n"
      ]
    },
    {
      "cell_type": "markdown",
      "metadata": {
        "id": "y1lncitl-c9x"
      },
      "source": [
        "#### Ejercicio 7\n",
        "Ahora definan ustedes una nueva lista, en la que los primeros cuatro elementos sean palabras (strings), el quinto elemento no sea string, y el sexto sea string. Construyan un for loop que corra por la lista y que imprima la palabra y la longitud de la misma. Que el loop contenga una sentencia condicional que imprima un cartel \"Elemento no es un string: < el elemento > | < class del elemento >\" para los casos dónde el elemento evaluado no sea string."
      ]
    },
    {
      "cell_type": "code",
      "execution_count": null,
      "metadata": {
        "id": "bFOk9Os0-c9x",
        "outputId": "df429e82-328a-4bdf-8c90-be796f52786f"
      },
      "outputs": [
        {
          "name": "stdout",
          "output_type": "stream",
          "text": [
            "La palabra \"amor\" tiene 4 caracteres.\n",
            "La palabra \"boca\" tiene 4 caracteres.\n",
            "La palabra \"Desoxirribonucleico\" tiene 19 caracteres.\n",
            "La palabra \"Paralelepípedo\" tiene 14 caracteres.\n",
            "Elemento no es un string: True | <class 'bool'>\n",
            "La palabra \"oyente\" tiene 6 caracteres.\n"
          ]
        }
      ],
      "source": [
        "# Resolver acá\n",
        "# Definimos la lista con los elementos requeridos en este caso 6\n",
        "mi_lista = [\"amor\", \"boca\", \"Desoxirribonucleico\", \"Paralelepípedo\", True, \"oyente\"]  # en este caso true es un booleano\n",
        "\n",
        "# Recorremos la lista con un for\n",
        "for elemento in mi_lista:\n",
        "\n",
        "    # Verificamos si el elemento es un string\n",
        "\n",
        "    if isinstance(elemento, str):\n",
        "        print(f'La palabra \"{elemento}\" tiene {len(elemento)} caracteres.')\n",
        "    else:\n",
        "        print(f'Elemento no es un string: {elemento} | {type(elemento)}')\n"
      ]
    },
    {
      "cell_type": "markdown",
      "metadata": {
        "id": "ceiFv4-QJnhO"
      },
      "source": [
        "#### Ejercicio 8"
      ]
    },
    {
      "cell_type": "markdown",
      "metadata": {
        "id": "HUs4VqrOJnhP"
      },
      "source": [
        "Construyan una función llamada 'suma' que tome una cantidad variable de parámetros y devuelva el resultado de la suma."
      ]
    },
    {
      "cell_type": "code",
      "execution_count": 3,
      "metadata": {
        "colab": {
          "base_uri": "https://localhost:8080/"
        },
        "id": "eEbXwS1YJnhP",
        "outputId": "aae6cf87-9265-4faf-ddd7-396188a6c8fd"
      },
      "outputs": [
        {
          "output_type": "stream",
          "name": "stdout",
          "text": [
            "74289.32\n"
          ]
        }
      ],
      "source": [
        "# Resolver acá\n",
        "def suma(*numeros):\n",
        "    return sum(numeros)\n",
        "\n",
        "# Ejemplo\n",
        "resultado = suma(10321, 23213.32, 31111, 4322, 5322)\n",
        "print(resultado)\n"
      ]
    },
    {
      "cell_type": "markdown",
      "metadata": {
        "id": "PUpxDz72-c9x"
      },
      "source": [
        "#### Ejercicio 9\n",
        "Argentina tiene una representación legislativa proporcional en la cual la cantidad de diputados se debería ajustar según el tamaño de población de cada provincia. Otra característica de la representación legislativa del país es que hay una cantidad mínima de diputados por provincia (5). Esto genera un desbalance en la cantidad de ciudadanos por cada representante en el Congreso entre provincias.\n",
        "\n",
        "A continuación preparamos algunos ejemplos, dividiendo la población de cada provincia (según estimación para el 2022) por la cantidad de representantes en el Congreso para esa misma jurisdicción. También armamos el equivalente para el total país y una lista con los valores provinciales.\n",
        "\n",
        "En este ejercicio les pedimos que construyan un for loop que itere sobre el diccionario definido y compare cada valor provincial contra el valor de proporcionalidad directa (la variable argentina). El loop debe imprimir una leyenda que indique si la provincia está sobrerepresentada, subrepresentada o con representación proporcional. Además, queremos que el mismo loop compare los valores de las provincias sobrerepresentadas y que guarde el valor de la provincia con mayor sobrerepresentación. Luego del loop impriman este valor así podemos ver que haya funcionado.\n",
        "\n",
        "Fuente para población: https://es.wikipedia.org/wiki/Demograf%C3%ADa_de_Argentina\n",
        "\n",
        "Fuente para representantes: https://es.wikipedia.org/wiki/C%C3%A1mara_de_Diputados_de_la_Naci%C3%B3n_Argentina"
      ]
    },
    {
      "cell_type": "code",
      "execution_count": null,
      "metadata": {
        "id": "hd8Z5AHs-c9y"
      },
      "outputs": [],
      "source": [
        "# Valor de referencia: proporcionalidad\n",
        "argentina = 46044703 / 257\n",
        "\n",
        "# Creamos variables para una selección de jurisdicciones\n",
        "cordoba = 3978984 / 18\n",
        "santa_fe = 3556522 / 19\n",
        "mendoza = 2014533 / 10\n",
        "buenos_aires = 17569053 / 70\n",
        "entre_rios =  1426426 / 9\n",
        "santa_cruz = 333473 / 5\n",
        "formosa = 606041 / 5\n",
        "\n",
        "# Definimos el diccionario para iterar\n",
        "dict_provincias = {\n",
        "    \"Córdoba\": cordoba,\n",
        "    \"Santa Fe\": santa_fe,\n",
        "    \"Mendoza\": mendoza,\n",
        "    \"Buenos Aires\": buenos_aires,\n",
        "    \"Entre Ríos\": entre_rios,\n",
        "    \"Santa Cruz\": santa_cruz,\n",
        "    \"Formosa\": formosa\n",
        "}"
      ]
    },
    {
      "cell_type": "code",
      "execution_count": 5,
      "metadata": {
        "id": "fsEHnxiY-c9y",
        "scrolled": true,
        "colab": {
          "base_uri": "https://localhost:8080/"
        },
        "outputId": "b3ff3b6c-b20f-446a-ac84-79afea0a3b63"
      },
      "outputs": [
        {
          "output_type": "stream",
          "name": "stdout",
          "text": [
            "Córdoba está SUBREPRESENTADA (Valor: 221054.66666666666)\n",
            "Santa Fe está SUBREPRESENTADA (Valor: 187185.36842105264)\n",
            "Mendoza está SUBREPRESENTADA (Valor: 201453.3)\n",
            "Buenos Aires está SUBREPRESENTADA (Valor: 250986.4714285714)\n",
            "Entre Ríos está SOBREREPRESENTADA (Valor: 158491.77777777778)\n",
            "Santa Cruz está SOBREREPRESENTADA (Valor: 66694.6)\n",
            "Formosa está SOBREREPRESENTADA (Valor: 121208.2)\n",
            "Chaco está SUBREPRESENTADA (Valor: 225921.2)\n",
            "\n",
            "La provincia con mayor sobrerepresentación es: Santa Cruz con 66694.6 ciudadanos por diputado.\n"
          ]
        }
      ],
      "source": [
        "# Resolver acá\n",
        "# Valor de referencia para proporcionalidad directa (Argentina)\n",
        "argentina = 46044703 / 257\n",
        "\n",
        "# Creamos variables para una selección de jurisdicciones\n",
        "cordoba = 3978984 / 18\n",
        "santa_fe = 3556522 / 19\n",
        "mendoza = 2014533 / 10\n",
        "buenos_aires = 17569053 / 70\n",
        "entre_rios =  1426426 / 9\n",
        "santa_cruz = 333473 / 5\n",
        "formosa = 606041 / 5\n",
        "chaco = 1129606/ 5\n",
        "\n",
        "# Definimos el diccionario para iterar\n",
        "dict_provincias = {\n",
        "    \"Córdoba\": cordoba,\n",
        "    \"Santa Fe\": santa_fe,\n",
        "    \"Mendoza\": mendoza,\n",
        "    \"Buenos Aires\": buenos_aires,\n",
        "    \"Entre Ríos\": entre_rios,\n",
        "    \"Santa Cruz\": santa_cruz,\n",
        "    \"Formosa\": formosa,\n",
        "    \"Chaco\": chaco,\n",
        "}\n",
        "\n",
        "# Variables para la provincia más sobrerepresentada\n",
        "provincia_max_sobrerepresentada = None\n",
        "mayor_sobrerepresentacion = float('inf')\n",
        "\n",
        "# Bucle que compara los valores provinciales\n",
        "for provincia, valor in dict_provincias.items():\n",
        "    if valor > argentina:\n",
        "        print(f\"{provincia} está SUBREPRESENTADA (Valor: {valor})\")\n",
        "    elif valor < argentina:\n",
        "        print(f\"{provincia} está SOBREREPRESENTADA (Valor: {valor})\")\n",
        "\n",
        "        # Comparamos la provincia con mayor sobrerepresentación\n",
        "        if valor < mayor_sobrerepresentacion:\n",
        "            mayor_sobrerepresentacion = valor\n",
        "            provincia_max_sobrerepresentada = provincia\n",
        "    else:\n",
        "        print(f\"{provincia} tiene REPRESENTACIÓN PROPORCIONAL (Valor: {valor})\")\n",
        "\n",
        "# Imprimir la provincia con mayor sobrerepresentación\n",
        "print(\"\\nLa provincia con mayor sobrerepresentación es:\", provincia_max_sobrerepresentada,\n",
        "      f\"con {mayor_sobrerepresentacion} ciudadanos por diputado.\")\n",
        "\n"
      ]
    },
    {
      "cell_type": "markdown",
      "metadata": {
        "id": "GokZe5tV-c9z"
      },
      "source": [
        "#### Ejercicio 10\n",
        "Si buscáramos minimizar la subrepresentación de la provincia de Buenos Aires, ¿cuántos representantes debería tener según el Censo 2022? Usemos el mismo criterio de sub/sobrerepresentacion que en el ejercicio anterior: población sobre cantidad de representantes.\n",
        "\n",
        "Para responder esta pregunta construyan un while loop que incremente de a uno la cantidad de representantes de la Provincia hasta minimizar la subrepresentación. En cada iteración impriman un cartel que diga: \"Se agregó un representante, el total ahora es X\" dónde X es el número de representantes simulado."
      ]
    },
    {
      "cell_type": "code",
      "execution_count": null,
      "metadata": {
        "id": "x9DvuXa_-c9z"
      },
      "outputs": [],
      "source": [
        "# Estos son los valores de la provincia\n",
        "representantes_pba = 70\n",
        "poblacion2010_pba = 17594428\n",
        "\n",
        "\n",
        "# Y el valor de referencia nacional\n",
        "argentina = 46044703 / 257\n"
      ]
    },
    {
      "cell_type": "code",
      "execution_count": null,
      "metadata": {
        "id": "O9gusCD0JnhP",
        "outputId": "fe8a3762-0640-40ae-fc60-beca64182d12"
      },
      "outputs": [
        {
          "name": "stdout",
          "output_type": "stream",
          "text": [
            "Se agregó un representante, el total ahora es 71\n",
            "Se agregó un representante, el total ahora es 72\n",
            "Se agregó un representante, el total ahora es 73\n",
            "Se agregó un representante, el total ahora es 74\n",
            "Se agregó un representante, el total ahora es 75\n",
            "Se agregó un representante, el total ahora es 76\n",
            "Se agregó un representante, el total ahora es 77\n",
            "Se agregó un representante, el total ahora es 78\n",
            "Se agregó un representante, el total ahora es 79\n",
            "Se agregó un representante, el total ahora es 80\n",
            "Se agregó un representante, el total ahora es 81\n",
            "Se agregó un representante, el total ahora es 82\n",
            "Se agregó un representante, el total ahora es 83\n",
            "Se agregó un representante, el total ahora es 84\n",
            "Se agregó un representante, el total ahora es 85\n",
            "Se agregó un representante, el total ahora es 86\n",
            "Se agregó un representante, el total ahora es 87\n",
            "Se agregó un representante, el total ahora es 88\n",
            "Se agregó un representante, el total ahora es 89\n",
            "Se agregó un representante, el total ahora es 90\n",
            "Se agregó un representante, el total ahora es 91\n",
            "Se agregó un representante, el total ahora es 92\n",
            "Se agregó un representante, el total ahora es 93\n",
            "Se agregó un representante, el total ahora es 94\n",
            "Se agregó un representante, el total ahora es 95\n",
            "Se agregó un representante, el total ahora es 96\n",
            "Se agregó un representante, el total ahora es 97\n",
            "Se agregó un representante, el total ahora es 98\n",
            "Se agregó un representante, el total ahora es 99\n",
            "\n",
            "La cantidad de representantes mínima para minimizar la subrepresentación en Buenos Aires es 99.\n"
          ]
        }
      ],
      "source": [
        "# Resolver acá\n",
        "# Definir los valores iniciales de la provincia de Buenos Aires\n",
        "representantes_pba = 70\n",
        "poblacion2010_pba = 17594428\n",
        "\n",
        "# Valor de referencia nacional (proporcionalidad directa)\n",
        "argentina = 46044703 / 257\n",
        "\n",
        "# Calcular los ciudadanos por diputado en Buenos Aires\n",
        "ciudadanos_por_diputado_pba = poblacion2010_pba / representantes_pba\n",
        "\n",
        "# Mientras la subrepresentación sea alta (ciudadanos por diputado sea mayor que el valor nacional)\n",
        "while ciudadanos_por_diputado_pba > argentina:\n",
        "    # Aumentar el número de representantes\n",
        "    representantes_pba += 1\n",
        "    # Recalcular los ciudadanos por diputado\n",
        "    ciudadanos_por_diputado_pba = poblacion2010_pba / representantes_pba\n",
        "    # Imprimir el progreso\n",
        "    print(f\"Se agregó un representante, el total ahora es {representantes_pba}\")\n",
        "\n",
        "# Una vez minimizada la subrepresentación, mostramos el resultado\n",
        "print(f\"\\nLa cantidad de representantes mínima para minimizar la subrepresentación en Buenos Aires es {representantes_pba}.\")\n"
      ]
    },
    {
      "cell_type": "code",
      "execution_count": null,
      "metadata": {
        "id": "w3aL1jB3JnhP"
      },
      "outputs": [],
      "source": []
    }
  ],
  "metadata": {
    "anaconda-cloud": {},
    "colab": {
      "provenance": []
    },
    "kernelspec": {
      "display_name": "Python [conda env:base] *",
      "language": "python",
      "name": "conda-base-py"
    },
    "language_info": {
      "codemirror_mode": {
        "name": "ipython",
        "version": 3
      },
      "file_extension": ".py",
      "mimetype": "text/x-python",
      "name": "python",
      "nbconvert_exporter": "python",
      "pygments_lexer": "ipython3",
      "version": "3.12.7"
    }
  },
  "nbformat": 4,
  "nbformat_minor": 0
}